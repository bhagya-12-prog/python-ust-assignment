{
 "cells": [
  {
   "cell_type": "code",
   "execution_count": 9,
   "id": "ff69dcdc",
   "metadata": {},
   "outputs": [
    {
     "name": "stdout",
     "output_type": "stream",
     "text": [
      "Enter the string : sdfghwertyu sdfghjrtyu rtyui rtyu\n",
      "\n",
      "The number of words in given string is : 4\n"
     ]
    }
   ],
   "source": [
    "my_string = input('Enter the string : ')\n",
    "word_list = my_string. split() \n",
    "number_of_words = len(word_list)\n",
    "print('\\nThe number of words in given string is :',number_of_words)"
   ]
  },
  {
   "cell_type": "code",
   "execution_count": 2,
   "id": "5824a355",
   "metadata": {},
   "outputs": [
    {
     "name": "stdout",
     "output_type": "stream",
     "text": [
      "\n",
      "The number of words in a file is:  15\n"
     ]
    }
   ],
   "source": [
    "with open('word.txt','r') as f:\n",
    "    lines = f.read()\n",
    "    word_list = lines.split()\n",
    "    num_of_words = len(word_list)\n",
    "    print('\\nThe number of words in a file is: ',num_of_words)\n",
    "f.close()\n"
   ]
  },
  {
   "cell_type": "code",
   "execution_count": null,
   "id": "3e03e4f0",
   "metadata": {},
   "outputs": [],
   "source": []
  }
 ],
 "metadata": {
  "kernelspec": {
   "display_name": "Python 3 (ipykernel)",
   "language": "python",
   "name": "python3"
  },
  "language_info": {
   "codemirror_mode": {
    "name": "ipython",
    "version": 3
   },
   "file_extension": ".py",
   "mimetype": "text/x-python",
   "name": "python",
   "nbconvert_exporter": "python",
   "pygments_lexer": "ipython3",
   "version": "3.9.7"
  }
 },
 "nbformat": 4,
 "nbformat_minor": 5
}
